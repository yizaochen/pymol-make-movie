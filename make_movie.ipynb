{
 "cells": [
  {
   "cell_type": "code",
   "execution_count": null,
   "id": "07f952ce-827b-4077-99ca-b75dec083e85",
   "metadata": {},
   "outputs": [],
   "source": [
    "import ffmpeg"
   ]
  },
  {
   "cell_type": "code",
   "execution_count": null,
   "id": "6d62184b-06ae-41c4-b70d-f8268640df36",
   "metadata": {},
   "outputs": [],
   "source": [
    "png_collect = './png/*.png'\n",
    "mp4 = './sample.mp4'"
   ]
  },
  {
   "cell_type": "code",
   "execution_count": null,
   "id": "5ee0a6d4-7715-4b3f-a560-d9c5ae812d71",
   "metadata": {},
   "outputs": [],
   "source": [
    "(\n",
    "    ffmpeg\n",
    "    .input(png_collect, pattern_type='glob', framerate=20)\n",
    "    .output(mp4)\n",
    "    .run()\n",
    ")"
   ]
  }
 ],
 "metadata": {
  "kernelspec": {
   "display_name": "Python 3 (ipykernel)",
   "language": "python",
   "name": "python3"
  },
  "language_info": {
   "codemirror_mode": {
    "name": "ipython",
    "version": 3
   },
   "file_extension": ".py",
   "mimetype": "text/x-python",
   "name": "python",
   "nbconvert_exporter": "python",
   "pygments_lexer": "ipython3",
   "version": "3.8.16"
  }
 },
 "nbformat": 4,
 "nbformat_minor": 5
}
